{
 "cells": [
  {
   "cell_type": "markdown",
   "metadata": {},
   "source": [
    "# Pyversions\n",
    "\n",
    "A Python module to get versions of imported modules in current session.  \n",
    "[https://github.com/demotu/pyversions](https://github.com/demotu/pyversions)"
   ]
  },
  {
   "cell_type": "code",
   "execution_count": 1,
   "metadata": {},
   "outputs": [
    {
     "name": "stdout",
     "output_type": "stream",
     "text": [
      "Linux 5.3.0-42-generic 64-bit #34-Ubuntu SMP Fri Feb 28 05:49:40 UTC 2020\n",
      "CPython 3.7.7 (default, Mar 26 2020, 15:48:22) [GCC 7.3.0]\n",
      "Mar 27 2020, 16:12:40\n",
      "\n",
      "Module          Version\n",
      "ipython          7.13.0\n",
      "jupyterlab        1.2.6\n",
      "notebook          6.0.3\n",
      "pyversions        0.0.1\n"
     ]
    }
   ],
   "source": [
    "import pyversions\n",
    "\n",
    "pyversions.versions();"
   ]
  },
  {
   "cell_type": "code",
   "execution_count": 2,
   "metadata": {},
   "outputs": [
    {
     "name": "stdout",
     "output_type": "stream",
     "text": [
      "Linux 5.3.0-42-generic 64-bit #34-Ubuntu SMP Fri Feb 28 05:49:40 UTC 2020\n",
      "CPython 3.7.7 (default, Mar 26 2020, 15:48:22) [GCC 7.3.0]\n",
      "Mar 27 2020, 16:12:41\n",
      "\n",
      "Module          Version\n",
      "ipython          7.13.0\n",
      "jupyterlab        1.2.6\n",
      "notebook          6.0.3\n",
      "numpy            1.18.1\n",
      "pandas            1.0.3\n",
      "PIL               7.0.0\n",
      "PyQt              5.9.2\n",
      "PySide2        5.9.0~a1\n",
      "pyversions        0.0.1\n",
      "Qt PyQt5          5.9.6\n",
      "sklearn          0.22.1\n"
     ]
    }
   ],
   "source": [
    "import numpy as np\n",
    "import pandas as pd\n",
    "import sklearn\n",
    "from PIL import Image\n",
    "import PyQt5\n",
    "import PySide2\n",
    "\n",
    "pyversions.versions();"
   ]
  },
  {
   "cell_type": "code",
   "execution_count": null,
   "metadata": {},
   "outputs": [],
   "source": []
  }
 ],
 "metadata": {
  "kernelspec": {
   "display_name": "Python 3",
   "language": "python",
   "name": "python3"
  },
  "language_info": {
   "codemirror_mode": {
    "name": "ipython",
    "version": 3
   },
   "file_extension": ".py",
   "mimetype": "text/x-python",
   "name": "python",
   "nbconvert_exporter": "python",
   "pygments_lexer": "ipython3",
   "version": "3.7.7"
  }
 },
 "nbformat": 4,
 "nbformat_minor": 4
}
